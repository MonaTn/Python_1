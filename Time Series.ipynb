{
 "cells": [
  {
   "cell_type": "markdown",
   "metadata": {},
   "source": [
    "# Time Series"
   ]
  },
  {
   "cell_type": "code",
   "execution_count": 1,
   "metadata": {},
   "outputs": [],
   "source": [
    "import pandas_datareader.data as web\n",
    "import datetime \n",
    "import pandas as pd\n",
    "import matplotlib.pyplot as plt\n",
    "%matplotlib inline"
   ]
  },
  {
   "cell_type": "markdown",
   "metadata": {},
   "source": [
    "---\n",
    "## 2. Download the adjusted close price for AAPL, INTC, EBAY and AMZN for the last 60 months."
   ]
  },
  {
   "cell_type": "code",
   "execution_count": 2,
   "metadata": {},
   "outputs": [],
   "source": [
    "start = datetime.datetime(2013, 11, 12) \n",
    "end = datetime.datetime(2018, 11, 12) "
   ]
  },
  {
   "cell_type": "code",
   "execution_count": 5,
   "metadata": {},
   "outputs": [
    {
     "data": {
      "text/html": [
       "<div>\n",
       "<style scoped>\n",
       "    .dataframe tbody tr th:only-of-type {\n",
       "        vertical-align: middle;\n",
       "    }\n",
       "\n",
       "    .dataframe tbody tr th {\n",
       "        vertical-align: top;\n",
       "    }\n",
       "\n",
       "    .dataframe thead th {\n",
       "        text-align: right;\n",
       "    }\n",
       "</style>\n",
       "<table border=\"1\" class=\"dataframe\">\n",
       "  <thead>\n",
       "    <tr style=\"text-align: right;\">\n",
       "      <th></th>\n",
       "      <th>High</th>\n",
       "      <th>Low</th>\n",
       "      <th>Open</th>\n",
       "      <th>Close</th>\n",
       "      <th>Volume</th>\n",
       "      <th>Adj Close</th>\n",
       "    </tr>\n",
       "    <tr>\n",
       "      <th>Date</th>\n",
       "      <th></th>\n",
       "      <th></th>\n",
       "      <th></th>\n",
       "      <th></th>\n",
       "      <th></th>\n",
       "      <th></th>\n",
       "    </tr>\n",
       "  </thead>\n",
       "  <tbody>\n",
       "    <tr>\n",
       "      <th>2013-11-12</th>\n",
       "      <td>74.845711</td>\n",
       "      <td>73.857140</td>\n",
       "      <td>73.952858</td>\n",
       "      <td>74.287140</td>\n",
       "      <td>51069200.0</td>\n",
       "      <td>67.304939</td>\n",
       "    </tr>\n",
       "    <tr>\n",
       "      <th>2013-11-13</th>\n",
       "      <td>74.607140</td>\n",
       "      <td>73.851425</td>\n",
       "      <td>74.000000</td>\n",
       "      <td>74.375717</td>\n",
       "      <td>49305200.0</td>\n",
       "      <td>67.385170</td>\n",
       "    </tr>\n",
       "    <tr>\n",
       "      <th>2013-11-14</th>\n",
       "      <td>75.611427</td>\n",
       "      <td>74.552856</td>\n",
       "      <td>74.687141</td>\n",
       "      <td>75.451431</td>\n",
       "      <td>70604800.0</td>\n",
       "      <td>68.359810</td>\n",
       "    </tr>\n",
       "    <tr>\n",
       "      <th>2013-11-15</th>\n",
       "      <td>75.584282</td>\n",
       "      <td>74.927139</td>\n",
       "      <td>75.225716</td>\n",
       "      <td>74.998573</td>\n",
       "      <td>79480100.0</td>\n",
       "      <td>67.949516</td>\n",
       "    </tr>\n",
       "    <tr>\n",
       "      <th>2013-11-18</th>\n",
       "      <td>75.312859</td>\n",
       "      <td>74.028572</td>\n",
       "      <td>74.998573</td>\n",
       "      <td>74.089996</td>\n",
       "      <td>61236000.0</td>\n",
       "      <td>67.126343</td>\n",
       "    </tr>\n",
       "  </tbody>\n",
       "</table>\n",
       "</div>"
      ],
      "text/plain": [
       "                 High        Low       Open      Close      Volume  Adj Close\n",
       "Date                                                                         \n",
       "2013-11-12  74.845711  73.857140  73.952858  74.287140  51069200.0  67.304939\n",
       "2013-11-13  74.607140  73.851425  74.000000  74.375717  49305200.0  67.385170\n",
       "2013-11-14  75.611427  74.552856  74.687141  75.451431  70604800.0  68.359810\n",
       "2013-11-15  75.584282  74.927139  75.225716  74.998573  79480100.0  67.949516\n",
       "2013-11-18  75.312859  74.028572  74.998573  74.089996  61236000.0  67.126343"
      ]
     },
     "execution_count": 5,
     "metadata": {},
     "output_type": "execute_result"
    }
   ],
   "source": [
    "apple = web.DataReader('AAPL', 'yahoo', start, end)\n",
    "apple.head()"
   ]
  },
  {
   "cell_type": "code",
   "execution_count": 6,
   "metadata": {},
   "outputs": [
    {
     "data": {
      "text/plain": [
       "(1261, 6)"
      ]
     },
     "execution_count": 6,
     "metadata": {},
     "output_type": "execute_result"
    }
   ],
   "source": [
    "apple.shape"
   ]
  },
  {
   "cell_type": "code",
   "execution_count": 474,
   "metadata": {},
   "outputs": [
    {
     "data": {
      "text/html": [
       "<div>\n",
       "<style scoped>\n",
       "    .dataframe tbody tr th:only-of-type {\n",
       "        vertical-align: middle;\n",
       "    }\n",
       "\n",
       "    .dataframe tbody tr th {\n",
       "        vertical-align: top;\n",
       "    }\n",
       "\n",
       "    .dataframe thead th {\n",
       "        text-align: right;\n",
       "    }\n",
       "</style>\n",
       "<table border=\"1\" class=\"dataframe\">\n",
       "  <thead>\n",
       "    <tr style=\"text-align: right;\">\n",
       "      <th></th>\n",
       "      <th>High</th>\n",
       "      <th>Low</th>\n",
       "      <th>Open</th>\n",
       "      <th>Close</th>\n",
       "      <th>Volume</th>\n",
       "      <th>Adj Close</th>\n",
       "    </tr>\n",
       "    <tr>\n",
       "      <th>Date</th>\n",
       "      <th></th>\n",
       "      <th></th>\n",
       "      <th></th>\n",
       "      <th></th>\n",
       "      <th></th>\n",
       "      <th></th>\n",
       "    </tr>\n",
       "  </thead>\n",
       "  <tbody>\n",
       "    <tr>\n",
       "      <th>2013-11-12</th>\n",
       "      <td>24.500000</td>\n",
       "      <td>23.980000</td>\n",
       "      <td>23.990000</td>\n",
       "      <td>24.430000</td>\n",
       "      <td>37813500.0</td>\n",
       "      <td>20.849022</td>\n",
       "    </tr>\n",
       "    <tr>\n",
       "      <th>2013-11-13</th>\n",
       "      <td>24.620001</td>\n",
       "      <td>24.200001</td>\n",
       "      <td>24.250000</td>\n",
       "      <td>24.600000</td>\n",
       "      <td>22990300.0</td>\n",
       "      <td>20.994099</td>\n",
       "    </tr>\n",
       "    <tr>\n",
       "      <th>2013-11-14</th>\n",
       "      <td>24.500000</td>\n",
       "      <td>24.350000</td>\n",
       "      <td>24.430000</td>\n",
       "      <td>24.389999</td>\n",
       "      <td>20198900.0</td>\n",
       "      <td>20.814880</td>\n",
       "    </tr>\n",
       "    <tr>\n",
       "      <th>2013-11-15</th>\n",
       "      <td>24.549999</td>\n",
       "      <td>24.250000</td>\n",
       "      <td>24.400000</td>\n",
       "      <td>24.520000</td>\n",
       "      <td>22866500.0</td>\n",
       "      <td>20.925829</td>\n",
       "    </tr>\n",
       "    <tr>\n",
       "      <th>2013-11-18</th>\n",
       "      <td>24.700001</td>\n",
       "      <td>24.480000</td>\n",
       "      <td>24.610001</td>\n",
       "      <td>24.600000</td>\n",
       "      <td>24712500.0</td>\n",
       "      <td>20.994099</td>\n",
       "    </tr>\n",
       "  </tbody>\n",
       "</table>\n",
       "</div>"
      ],
      "text/plain": [
       "                 High        Low       Open      Close      Volume  Adj Close\n",
       "Date                                                                         \n",
       "2013-11-12  24.500000  23.980000  23.990000  24.430000  37813500.0  20.849022\n",
       "2013-11-13  24.620001  24.200001  24.250000  24.600000  22990300.0  20.994099\n",
       "2013-11-14  24.500000  24.350000  24.430000  24.389999  20198900.0  20.814880\n",
       "2013-11-15  24.549999  24.250000  24.400000  24.520000  22866500.0  20.925829\n",
       "2013-11-18  24.700001  24.480000  24.610001  24.600000  24712500.0  20.994099"
      ]
     },
     "execution_count": 474,
     "metadata": {},
     "output_type": "execute_result"
    }
   ],
   "source": [
    "intc = web.DataReader('INTC','yahoo', start, end)\n",
    "intc.head()"
   ]
  },
  {
   "cell_type": "code",
   "execution_count": 475,
   "metadata": {},
   "outputs": [
    {
     "data": {
      "text/plain": [
       "(1261, 6)"
      ]
     },
     "execution_count": 475,
     "metadata": {},
     "output_type": "execute_result"
    }
   ],
   "source": [
    "intc.shape"
   ]
  },
  {
   "cell_type": "code",
   "execution_count": 476,
   "metadata": {},
   "outputs": [
    {
     "data": {
      "text/html": [
       "<div>\n",
       "<style scoped>\n",
       "    .dataframe tbody tr th:only-of-type {\n",
       "        vertical-align: middle;\n",
       "    }\n",
       "\n",
       "    .dataframe tbody tr th {\n",
       "        vertical-align: top;\n",
       "    }\n",
       "\n",
       "    .dataframe thead th {\n",
       "        text-align: right;\n",
       "    }\n",
       "</style>\n",
       "<table border=\"1\" class=\"dataframe\">\n",
       "  <thead>\n",
       "    <tr style=\"text-align: right;\">\n",
       "      <th></th>\n",
       "      <th>High</th>\n",
       "      <th>Low</th>\n",
       "      <th>Open</th>\n",
       "      <th>Close</th>\n",
       "      <th>Volume</th>\n",
       "      <th>Adj Close</th>\n",
       "    </tr>\n",
       "    <tr>\n",
       "      <th>Date</th>\n",
       "      <th></th>\n",
       "      <th></th>\n",
       "      <th></th>\n",
       "      <th></th>\n",
       "      <th></th>\n",
       "      <th></th>\n",
       "    </tr>\n",
       "  </thead>\n",
       "  <tbody>\n",
       "    <tr>\n",
       "      <th>2013-11-12</th>\n",
       "      <td>22.390572</td>\n",
       "      <td>21.868687</td>\n",
       "      <td>21.906565</td>\n",
       "      <td>22.234848</td>\n",
       "      <td>25500600.0</td>\n",
       "      <td>22.066107</td>\n",
       "    </tr>\n",
       "    <tr>\n",
       "      <th>2013-11-13</th>\n",
       "      <td>22.323233</td>\n",
       "      <td>22.083334</td>\n",
       "      <td>22.138046</td>\n",
       "      <td>22.319023</td>\n",
       "      <td>18187000.0</td>\n",
       "      <td>22.149643</td>\n",
       "    </tr>\n",
       "    <tr>\n",
       "      <th>2013-11-14</th>\n",
       "      <td>22.508417</td>\n",
       "      <td>22.171717</td>\n",
       "      <td>22.348484</td>\n",
       "      <td>22.255892</td>\n",
       "      <td>24993300.0</td>\n",
       "      <td>22.086990</td>\n",
       "    </tr>\n",
       "    <tr>\n",
       "      <th>2013-11-15</th>\n",
       "      <td>22.356903</td>\n",
       "      <td>22.020203</td>\n",
       "      <td>22.314816</td>\n",
       "      <td>22.138046</td>\n",
       "      <td>25152500.0</td>\n",
       "      <td>21.970039</td>\n",
       "    </tr>\n",
       "    <tr>\n",
       "      <th>2013-11-18</th>\n",
       "      <td>22.175926</td>\n",
       "      <td>21.771885</td>\n",
       "      <td>22.024410</td>\n",
       "      <td>21.919191</td>\n",
       "      <td>30303200.0</td>\n",
       "      <td>21.752846</td>\n",
       "    </tr>\n",
       "  </tbody>\n",
       "</table>\n",
       "</div>"
      ],
      "text/plain": [
       "                 High        Low       Open      Close      Volume  Adj Close\n",
       "Date                                                                         \n",
       "2013-11-12  22.390572  21.868687  21.906565  22.234848  25500600.0  22.066107\n",
       "2013-11-13  22.323233  22.083334  22.138046  22.319023  18187000.0  22.149643\n",
       "2013-11-14  22.508417  22.171717  22.348484  22.255892  24993300.0  22.086990\n",
       "2013-11-15  22.356903  22.020203  22.314816  22.138046  25152500.0  21.970039\n",
       "2013-11-18  22.175926  21.771885  22.024410  21.919191  30303200.0  21.752846"
      ]
     },
     "execution_count": 476,
     "metadata": {},
     "output_type": "execute_result"
    }
   ],
   "source": [
    "ebay = web.DataReader('EBAy', 'yahoo', start, end)\n",
    "ebay.head()"
   ]
  },
  {
   "cell_type": "code",
   "execution_count": 477,
   "metadata": {},
   "outputs": [
    {
     "data": {
      "text/plain": [
       "(1261, 6)"
      ]
     },
     "execution_count": 477,
     "metadata": {},
     "output_type": "execute_result"
    }
   ],
   "source": [
    "ebay.shape"
   ]
  },
  {
   "cell_type": "code",
   "execution_count": 478,
   "metadata": {},
   "outputs": [
    {
     "data": {
      "text/html": [
       "<div>\n",
       "<style scoped>\n",
       "    .dataframe tbody tr th:only-of-type {\n",
       "        vertical-align: middle;\n",
       "    }\n",
       "\n",
       "    .dataframe tbody tr th {\n",
       "        vertical-align: top;\n",
       "    }\n",
       "\n",
       "    .dataframe thead th {\n",
       "        text-align: right;\n",
       "    }\n",
       "</style>\n",
       "<table border=\"1\" class=\"dataframe\">\n",
       "  <thead>\n",
       "    <tr style=\"text-align: right;\">\n",
       "      <th></th>\n",
       "      <th>High</th>\n",
       "      <th>Low</th>\n",
       "      <th>Open</th>\n",
       "      <th>Close</th>\n",
       "      <th>Volume</th>\n",
       "      <th>Adj Close</th>\n",
       "    </tr>\n",
       "    <tr>\n",
       "      <th>Date</th>\n",
       "      <th></th>\n",
       "      <th></th>\n",
       "      <th></th>\n",
       "      <th></th>\n",
       "      <th></th>\n",
       "      <th></th>\n",
       "    </tr>\n",
       "  </thead>\n",
       "  <tbody>\n",
       "    <tr>\n",
       "      <th>2013-11-12</th>\n",
       "      <td>355.480011</td>\n",
       "      <td>347.279999</td>\n",
       "      <td>352.989990</td>\n",
       "      <td>349.529999</td>\n",
       "      <td>2343100</td>\n",
       "      <td>349.529999</td>\n",
       "    </tr>\n",
       "    <tr>\n",
       "      <th>2013-11-13</th>\n",
       "      <td>356.220001</td>\n",
       "      <td>345.679993</td>\n",
       "      <td>347.399994</td>\n",
       "      <td>356.220001</td>\n",
       "      <td>2773300</td>\n",
       "      <td>356.220001</td>\n",
       "    </tr>\n",
       "    <tr>\n",
       "      <th>2013-11-14</th>\n",
       "      <td>368.940002</td>\n",
       "      <td>356.429993</td>\n",
       "      <td>357.390015</td>\n",
       "      <td>367.399994</td>\n",
       "      <td>4159800</td>\n",
       "      <td>367.399994</td>\n",
       "    </tr>\n",
       "    <tr>\n",
       "      <th>2013-11-15</th>\n",
       "      <td>372.899994</td>\n",
       "      <td>365.549988</td>\n",
       "      <td>367.630005</td>\n",
       "      <td>369.170013</td>\n",
       "      <td>4491600</td>\n",
       "      <td>369.170013</td>\n",
       "    </tr>\n",
       "    <tr>\n",
       "      <th>2013-11-18</th>\n",
       "      <td>373.489990</td>\n",
       "      <td>364.670013</td>\n",
       "      <td>370.279999</td>\n",
       "      <td>366.179993</td>\n",
       "      <td>2737400</td>\n",
       "      <td>366.179993</td>\n",
       "    </tr>\n",
       "  </tbody>\n",
       "</table>\n",
       "</div>"
      ],
      "text/plain": [
       "                  High         Low        Open       Close   Volume  \\\n",
       "Date                                                                  \n",
       "2013-11-12  355.480011  347.279999  352.989990  349.529999  2343100   \n",
       "2013-11-13  356.220001  345.679993  347.399994  356.220001  2773300   \n",
       "2013-11-14  368.940002  356.429993  357.390015  367.399994  4159800   \n",
       "2013-11-15  372.899994  365.549988  367.630005  369.170013  4491600   \n",
       "2013-11-18  373.489990  364.670013  370.279999  366.179993  2737400   \n",
       "\n",
       "             Adj Close  \n",
       "Date                    \n",
       "2013-11-12  349.529999  \n",
       "2013-11-13  356.220001  \n",
       "2013-11-14  367.399994  \n",
       "2013-11-15  369.170013  \n",
       "2013-11-18  366.179993  "
      ]
     },
     "execution_count": 478,
     "metadata": {},
     "output_type": "execute_result"
    }
   ],
   "source": [
    "amazon = web.DataReader('AMZN', 'yahoo', start, end)\n",
    "amazon.head()"
   ]
  },
  {
   "cell_type": "code",
   "execution_count": 479,
   "metadata": {},
   "outputs": [
    {
     "data": {
      "text/plain": [
       "(1261, 6)"
      ]
     },
     "execution_count": 479,
     "metadata": {},
     "output_type": "execute_result"
    }
   ],
   "source": [
    "amazon.shape"
   ]
  },
  {
   "cell_type": "markdown",
   "metadata": {},
   "source": [
    "---\n",
    "## 3. Select the adjusted month-end close price for each of the stocks."
   ]
  },
  {
   "cell_type": "code",
   "execution_count": 7,
   "metadata": {},
   "outputs": [
    {
     "data": {
      "text/plain": [
       "60"
      ]
     },
     "execution_count": 7,
     "metadata": {},
     "output_type": "execute_result"
    }
   ],
   "source": [
    "mounths = int((end-start).days/30)\n",
    "mounths"
   ]
  },
  {
   "cell_type": "code",
   "execution_count": 8,
   "metadata": {},
   "outputs": [
    {
     "data": {
      "text/plain": [
       "DatetimeIndex(['2013-11-29', '2013-12-31', '2014-01-31', '2014-02-28',\n",
       "               '2014-03-31', '2014-04-30', '2014-05-30', '2014-06-30',\n",
       "               '2014-07-31', '2014-08-29', '2014-09-30', '2014-10-31',\n",
       "               '2014-11-28', '2014-12-31', '2015-01-30', '2015-02-27',\n",
       "               '2015-03-31', '2015-04-30', '2015-05-29', '2015-06-30',\n",
       "               '2015-07-31', '2015-08-31', '2015-09-30', '2015-10-30',\n",
       "               '2015-11-30', '2015-12-31', '2016-01-29', '2016-02-29',\n",
       "               '2016-03-31', '2016-04-29', '2016-05-31', '2016-06-30',\n",
       "               '2016-07-29', '2016-08-31', '2016-09-30', '2016-10-31',\n",
       "               '2016-11-30', '2016-12-30', '2017-01-31', '2017-02-28',\n",
       "               '2017-03-31', '2017-04-28', '2017-05-31', '2017-06-30',\n",
       "               '2017-07-31', '2017-08-31', '2017-09-29', '2017-10-31',\n",
       "               '2017-11-30', '2017-12-29', '2018-01-31', '2018-02-28',\n",
       "               '2018-03-30', '2018-04-30', '2018-05-31', '2018-06-29',\n",
       "               '2018-07-31', '2018-08-31', '2018-09-28', '2018-10-31'],\n",
       "              dtype='datetime64[ns]', freq='BM')"
      ]
     },
     "execution_count": 8,
     "metadata": {},
     "output_type": "execute_result"
    }
   ],
   "source": [
    "# Select the last business day of each month\n",
    "timerange = pd.date_range(start, periods=mounths, freq='BM')\n",
    "timerange"
   ]
  },
  {
   "cell_type": "code",
   "execution_count": 11,
   "metadata": {},
   "outputs": [
    {
     "data": {
      "text/html": [
       "<div>\n",
       "<style scoped>\n",
       "    .dataframe tbody tr th:only-of-type {\n",
       "        vertical-align: middle;\n",
       "    }\n",
       "\n",
       "    .dataframe tbody tr th {\n",
       "        vertical-align: top;\n",
       "    }\n",
       "\n",
       "    .dataframe thead th {\n",
       "        text-align: right;\n",
       "    }\n",
       "</style>\n",
       "<table border=\"1\" class=\"dataframe\">\n",
       "  <thead>\n",
       "    <tr style=\"text-align: right;\">\n",
       "      <th></th>\n",
       "      <th>High</th>\n",
       "      <th>Low</th>\n",
       "      <th>Open</th>\n",
       "      <th>Close</th>\n",
       "      <th>Volume</th>\n",
       "      <th>Adj Close</th>\n",
       "    </tr>\n",
       "    <tr>\n",
       "      <th>Date</th>\n",
       "      <th></th>\n",
       "      <th></th>\n",
       "      <th></th>\n",
       "      <th></th>\n",
       "      <th></th>\n",
       "      <th></th>\n",
       "    </tr>\n",
       "  </thead>\n",
       "  <tbody>\n",
       "    <tr>\n",
       "      <th>2013-11-12</th>\n",
       "      <td>74.845711</td>\n",
       "      <td>73.857140</td>\n",
       "      <td>73.952858</td>\n",
       "      <td>74.287140</td>\n",
       "      <td>51069200.0</td>\n",
       "      <td>67.304939</td>\n",
       "    </tr>\n",
       "    <tr>\n",
       "      <th>2013-11-13</th>\n",
       "      <td>74.607140</td>\n",
       "      <td>73.851425</td>\n",
       "      <td>74.000000</td>\n",
       "      <td>74.375717</td>\n",
       "      <td>49305200.0</td>\n",
       "      <td>67.385170</td>\n",
       "    </tr>\n",
       "    <tr>\n",
       "      <th>2013-11-14</th>\n",
       "      <td>75.611427</td>\n",
       "      <td>74.552856</td>\n",
       "      <td>74.687141</td>\n",
       "      <td>75.451431</td>\n",
       "      <td>70604800.0</td>\n",
       "      <td>68.359810</td>\n",
       "    </tr>\n",
       "    <tr>\n",
       "      <th>2013-11-15</th>\n",
       "      <td>75.584282</td>\n",
       "      <td>74.927139</td>\n",
       "      <td>75.225716</td>\n",
       "      <td>74.998573</td>\n",
       "      <td>79480100.0</td>\n",
       "      <td>67.949516</td>\n",
       "    </tr>\n",
       "    <tr>\n",
       "      <th>2013-11-18</th>\n",
       "      <td>75.312859</td>\n",
       "      <td>74.028572</td>\n",
       "      <td>74.998573</td>\n",
       "      <td>74.089996</td>\n",
       "      <td>61236000.0</td>\n",
       "      <td>67.126343</td>\n",
       "    </tr>\n",
       "  </tbody>\n",
       "</table>\n",
       "</div>"
      ],
      "text/plain": [
       "                 High        Low       Open      Close      Volume  Adj Close\n",
       "Date                                                                         \n",
       "2013-11-12  74.845711  73.857140  73.952858  74.287140  51069200.0  67.304939\n",
       "2013-11-13  74.607140  73.851425  74.000000  74.375717  49305200.0  67.385170\n",
       "2013-11-14  75.611427  74.552856  74.687141  75.451431  70604800.0  68.359810\n",
       "2013-11-15  75.584282  74.927139  75.225716  74.998573  79480100.0  67.949516\n",
       "2013-11-18  75.312859  74.028572  74.998573  74.089996  61236000.0  67.126343"
      ]
     },
     "execution_count": 11,
     "metadata": {},
     "output_type": "execute_result"
    }
   ],
   "source": [
    "apple.head()"
   ]
  },
  {
   "cell_type": "code",
   "execution_count": 9,
   "metadata": {},
   "outputs": [
    {
     "data": {
      "text/plain": [
       "2013-11-29     71.972206\n",
       "2013-12-31     72.612869\n",
       "2014-01-31     64.792686\n",
       "2014-02-28     68.518982\n",
       "2014-03-31     69.886131\n",
       "2014-04-30     76.832581\n",
       "2014-05-30     82.880005\n",
       "2014-06-30     85.172630\n",
       "2014-07-31     87.619743\n",
       "2014-08-29     94.411041\n",
       "2014-09-30     92.799133\n",
       "2014-10-31     99.476997\n",
       "2014-11-28    110.019447\n",
       "2014-12-31    102.110046\n",
       "2015-01-30    108.382065\n",
       "2015-02-27    119.304436\n",
       "2015-03-31    115.561661\n",
       "2015-04-30    116.230362\n",
       "2015-05-29    121.500092\n",
       "2015-06-30    116.976997\n",
       "2015-07-31    113.125298\n",
       "2015-08-31    105.636848\n",
       "2015-09-30    103.332245\n",
       "2015-10-30    111.951080\n",
       "2015-11-30    111.301277\n",
       "2015-12-31     99.032730\n",
       "2016-01-29     91.581261\n",
       "2016-02-29     91.463356\n",
       "2016-03-31    103.098488\n",
       "2016-04-29     88.672829\n",
       "2016-05-31     95.037117\n",
       "2016-06-30     90.982880\n",
       "2016-07-29     99.177032\n",
       "2016-08-31    101.522766\n",
       "2016-09-30    108.172951\n",
       "2016-10-31    108.641800\n",
       "2016-11-30    106.295036\n",
       "2016-12-30    111.392426\n",
       "2017-01-31    116.711029\n",
       "2017-02-28    132.324371\n",
       "2017-03-31    138.767197\n",
       "2017-04-28    138.757538\n",
       "2017-05-31    148.166336\n",
       "2017-06-30    139.689148\n",
       "2017-07-31    144.257507\n",
       "2017-08-31    159.692978\n",
       "2017-09-29    150.072464\n",
       "2017-10-31    164.600632\n",
       "2017-11-30    167.938385\n",
       "2017-12-29    165.378021\n",
       "2018-01-31    163.618988\n",
       "2018-02-28    174.775360\n",
       "2018-03-30           NaN\n",
       "2018-04-30    162.156830\n",
       "2018-05-31    184.068115\n",
       "2018-06-29    182.334488\n",
       "2018-07-31    187.436829\n",
       "2018-08-31    225.003342\n",
       "2018-09-28    223.135147\n",
       "2018-10-31    216.334518\n",
       "Freq: BM, Name: Adj Close, dtype: float64"
      ]
     },
     "execution_count": 9,
     "metadata": {},
     "output_type": "execute_result"
    }
   ],
   "source": [
    "# Create a time series of indexed_date and adjusted close\n",
    "appleTimeSeries = pd.Series(apple.iloc[:, 5], index=timerange)\n",
    "appleTimeSeries"
   ]
  },
  {
   "cell_type": "code",
   "execution_count": 483,
   "metadata": {},
   "outputs": [
    {
     "data": {
      "text/plain": [
       "1"
      ]
     },
     "execution_count": 483,
     "metadata": {},
     "output_type": "execute_result"
    }
   ],
   "source": [
    "appleTimeSeries.isnull().sum()"
   ]
  },
  {
   "cell_type": "code",
   "execution_count": 484,
   "metadata": {},
   "outputs": [
    {
     "data": {
      "text/plain": [
       "2013-11-29    20.345501\n",
       "2013-12-31    22.154743\n",
       "2014-01-31    20.942896\n",
       "2014-02-28    21.332148\n",
       "2014-03-31    22.236784\n",
       "2014-04-30    22.994951\n",
       "2014-05-30    23.739983\n",
       "2014-06-30    26.850859\n",
       "2014-07-31    29.449051\n",
       "2014-08-29    30.545925\n",
       "2014-09-30    30.458452\n",
       "2014-10-31    29.749910\n",
       "2014-11-28    32.797714\n",
       "2014-12-31    31.952467\n",
       "2015-01-30    29.090916\n",
       "2015-02-27    29.485807\n",
       "2015-03-31    27.729961\n",
       "2015-04-30    28.865051\n",
       "2015-05-29    30.779795\n",
       "2015-06-30    27.171257\n",
       "2015-07-31    25.858248\n",
       "2015-08-31    25.703804\n",
       "2015-09-30    27.144800\n",
       "2015-10-30    30.495125\n",
       "2015-11-30    31.535275\n",
       "2015-12-31    31.245050\n",
       "2016-01-29    28.134150\n",
       "2016-02-29    27.073395\n",
       "2016-03-31    29.598660\n",
       "2016-04-29    27.704710\n",
       "2016-05-31    29.152960\n",
       "2016-06-30    30.269613\n",
       "2016-07-29    32.170692\n",
       "2016-08-31    33.372295\n",
       "2016-09-30    35.101814\n",
       "2016-10-31    32.423847\n",
       "2016-11-30    32.510067\n",
       "2016-12-30    33.980984\n",
       "2017-01-31    34.496277\n",
       "2017-02-28    34.157524\n",
       "2017-03-31    34.034863\n",
       "2017-04-28    34.110348\n",
       "2017-05-31    34.326077\n",
       "2017-06-30    32.073162\n",
       "2017-07-31    33.717697\n",
       "2017-08-31    33.587708\n",
       "2017-09-29    36.470497\n",
       "2017-10-31    43.567299\n",
       "2017-11-30    43.199272\n",
       "2017-12-29    44.470966\n",
       "2018-01-31    46.378521\n",
       "2018-02-28    47.808601\n",
       "2018-03-30          NaN\n",
       "2018-04-30    50.068573\n",
       "2018-05-31    53.849987\n",
       "2018-06-29    48.494251\n",
       "2018-07-31    46.923626\n",
       "2018-08-31    47.532883\n",
       "2018-09-28    46.414001\n",
       "2018-10-31    46.011597\n",
       "Freq: BM, Name: Adj Close, dtype: float64"
      ]
     },
     "execution_count": 484,
     "metadata": {},
     "output_type": "execute_result"
    }
   ],
   "source": [
    "intcTimeSeries = pd.Series(intc.iloc[:, 5], index=timerange)\n",
    "intcTimeSeries"
   ]
  },
  {
   "cell_type": "code",
   "execution_count": 485,
   "metadata": {},
   "outputs": [
    {
     "data": {
      "text/plain": [
       "1"
      ]
     },
     "execution_count": 485,
     "metadata": {},
     "output_type": "execute_result"
    }
   ],
   "source": [
    "intcTimeSeries.isnull().sum()"
   ]
  },
  {
   "cell_type": "code",
   "execution_count": 486,
   "metadata": {},
   "outputs": [
    {
     "data": {
      "text/plain": [
       "2013-11-29    21.101263\n",
       "2013-12-31    22.918177\n",
       "2014-01-31    22.220648\n",
       "2014-02-28    24.547134\n",
       "2014-03-31    23.072720\n",
       "2014-04-30    21.648424\n",
       "2014-05-30    21.188974\n",
       "2014-06-30    20.909128\n",
       "2014-07-31    22.066107\n",
       "2014-08-29    23.181314\n",
       "2014-09-30    23.653296\n",
       "2014-10-31    21.928270\n",
       "2014-11-28    22.922354\n",
       "2014-12-31    23.440279\n",
       "2015-01-30    22.137112\n",
       "2015-02-27    24.187929\n",
       "2015-03-31    24.091862\n",
       "2015-04-30    24.334116\n",
       "2015-05-29    25.628927\n",
       "2015-06-30    25.161125\n",
       "2015-07-31    27.906595\n",
       "2015-08-31    26.904261\n",
       "2015-09-30    24.254522\n",
       "2015-10-30    27.688263\n",
       "2015-11-30    29.365438\n",
       "2015-12-31    27.271452\n",
       "2016-01-29    23.281960\n",
       "2016-02-29    23.619379\n",
       "2016-03-31    23.678926\n",
       "2016-04-29    24.244600\n",
       "2016-05-31    24.274370\n",
       "2016-06-30    23.232340\n",
       "2016-07-29    30.923525\n",
       "2016-08-31    31.915934\n",
       "2016-09-30    32.650322\n",
       "2016-10-31    28.293636\n",
       "2016-11-30    27.598948\n",
       "2016-12-30    29.464682\n",
       "2017-01-31    31.588440\n",
       "2017-02-28    33.642731\n",
       "2017-03-31    33.315235\n",
       "2017-04-28    33.156452\n",
       "2017-05-31    34.039696\n",
       "2017-06-30    34.654987\n",
       "2017-07-31    35.458843\n",
       "2017-08-31    35.855808\n",
       "2017-09-29    38.168125\n",
       "2017-10-31    37.354347\n",
       "2017-11-30    34.406887\n",
       "2017-12-29    37.453590\n",
       "2018-01-31    40.272038\n",
       "2018-02-28    42.534733\n",
       "2018-03-30          NaN\n",
       "2018-04-30    37.592525\n",
       "2018-05-31    37.433743\n",
       "2018-06-29    35.984818\n",
       "2018-07-31    33.196148\n",
       "2018-08-31    34.347343\n",
       "2018-09-28    32.769409\n",
       "2018-10-31    28.809690\n",
       "Freq: BM, Name: Adj Close, dtype: float64"
      ]
     },
     "execution_count": 486,
     "metadata": {},
     "output_type": "execute_result"
    }
   ],
   "source": [
    "ebayTimeSeries = pd.Series(ebay.iloc[:, 5], index=timerange)\n",
    "ebayTimeSeries"
   ]
  },
  {
   "cell_type": "code",
   "execution_count": 487,
   "metadata": {},
   "outputs": [
    {
     "data": {
      "text/plain": [
       "1"
      ]
     },
     "execution_count": 487,
     "metadata": {},
     "output_type": "execute_result"
    }
   ],
   "source": [
    "ebayTimeSeries.isnull().sum()"
   ]
  },
  {
   "cell_type": "code",
   "execution_count": 488,
   "metadata": {},
   "outputs": [
    {
     "data": {
      "text/plain": [
       "2013-11-29     393.619995\n",
       "2013-12-31     398.790009\n",
       "2014-01-31     358.690002\n",
       "2014-02-28     362.100006\n",
       "2014-03-31     336.369995\n",
       "2014-04-30     304.130005\n",
       "2014-05-30     312.549988\n",
       "2014-06-30     324.779999\n",
       "2014-07-31     312.989990\n",
       "2014-08-29     339.040009\n",
       "2014-09-30     322.440002\n",
       "2014-10-31     305.459991\n",
       "2014-11-28     338.640015\n",
       "2014-12-31     310.350006\n",
       "2015-01-30     354.529999\n",
       "2015-02-27     380.160004\n",
       "2015-03-31     372.100006\n",
       "2015-04-30     421.779999\n",
       "2015-05-29     429.230011\n",
       "2015-06-30     434.089996\n",
       "2015-07-31     536.150024\n",
       "2015-08-31     512.890015\n",
       "2015-09-30     511.890015\n",
       "2015-10-30     625.900024\n",
       "2015-11-30     664.799988\n",
       "2015-12-31     675.890015\n",
       "2016-01-29     587.000000\n",
       "2016-02-29     552.520020\n",
       "2016-03-31     593.640015\n",
       "2016-04-29     659.590027\n",
       "2016-05-31     722.789978\n",
       "2016-06-30     715.619995\n",
       "2016-07-29     758.809998\n",
       "2016-08-31     769.159973\n",
       "2016-09-30     837.309998\n",
       "2016-10-31     789.820007\n",
       "2016-11-30     750.570007\n",
       "2016-12-30     749.869995\n",
       "2017-01-31     823.479980\n",
       "2017-02-28     845.039978\n",
       "2017-03-31     886.539978\n",
       "2017-04-28     924.989990\n",
       "2017-05-31     994.619995\n",
       "2017-06-30     968.000000\n",
       "2017-07-31     987.780029\n",
       "2017-08-31     980.599976\n",
       "2017-09-29     961.349976\n",
       "2017-10-31    1105.280029\n",
       "2017-11-30    1176.750000\n",
       "2017-12-29    1169.469971\n",
       "2018-01-31    1450.890015\n",
       "2018-02-28    1512.449951\n",
       "2018-03-30            NaN\n",
       "2018-04-30    1566.130005\n",
       "2018-05-31    1629.619995\n",
       "2018-06-29    1699.800049\n",
       "2018-07-31    1777.439941\n",
       "2018-08-31    2012.709961\n",
       "2018-09-28    2003.000000\n",
       "2018-10-31    1598.010010\n",
       "Freq: BM, Name: Adj Close, dtype: float64"
      ]
     },
     "execution_count": 488,
     "metadata": {},
     "output_type": "execute_result"
    }
   ],
   "source": [
    "amazonTimeSeries = pd.Series(amazon.iloc[:, 5], index=timerange)\n",
    "amazonTimeSeries"
   ]
  },
  {
   "cell_type": "code",
   "execution_count": 489,
   "metadata": {},
   "outputs": [
    {
     "data": {
      "text/plain": [
       "1"
      ]
     },
     "execution_count": 489,
     "metadata": {},
     "output_type": "execute_result"
    }
   ],
   "source": [
    "amazonTimeSeries.isnull().sum()"
   ]
  },
  {
   "cell_type": "markdown",
   "metadata": {},
   "source": [
    "### **Since all time series has one None value at 2018-03-30, we drop it.**\n",
    "\n",
    "Also using asfreq method as *'ffill' or 'bfill'* does not fill NaNs already were existed.  "
   ]
  },
  {
   "cell_type": "code",
   "execution_count": 490,
   "metadata": {},
   "outputs": [],
   "source": [
    "appleTimeSeries.dropna(inplace=True)\n",
    "intcTimeSeries.dropna(inplace=True)\n",
    "ebayTimeSeries.dropna(inplace=True)\n",
    "amazonTimeSeries.dropna(inplace=True)"
   ]
  },
  {
   "cell_type": "markdown",
   "metadata": {},
   "source": [
    "## Time Plot"
   ]
  },
  {
   "cell_type": "code",
   "execution_count": 491,
   "metadata": {},
   "outputs": [],
   "source": [
    "plt.rc('figure', figsize=(14, 7))"
   ]
  },
  {
   "cell_type": "markdown",
   "metadata": {},
   "source": [
    "### Apple"
   ]
  },
  {
   "cell_type": "code",
   "execution_count": 492,
   "metadata": {},
   "outputs": [
    {
     "data": {
      "text/plain": [
       "[]"
      ]
     },
     "execution_count": 492,
     "metadata": {},
     "output_type": "execute_result"
    },
    {
     "data": {
      "image/png": "[encoded data removed]",
      "text/plain": [
       "<Figure size 1008x504 with 1 Axes>"
      ]
     },
     "metadata": {
      "needs_background": "light"
     },
     "output_type": "display_data"
    }
   ],
   "source": [
    "applePlot = appleTimeSeries.plot(style=\"-o\", color='r', grid=True)\n",
    "applePlot.set_title('Apple Co. Time Series Plot')\n",
    "applePlot.set_xlabel(\"Time (Last Business Day of Months)\")\n",
    "applePlot.set_ylabel(\"Adjusted Close\")\n",
    "applePlot.plot()"
   ]
  },
  {
   "cell_type": "markdown",
   "metadata": {},
   "source": [
    "---\n",
    "### Intel Corporation "
   ]
  },
  {
   "cell_type": "code",
   "execution_count": 493,
   "metadata": {},
   "outputs": [
    {
     "data": {
      "text/plain": [
       "[]"
      ]
     },
     "execution_count": 493,
     "metadata": {},
     "output_type": "execute_result"
    },
    {
     "data": {
      "image/png": "[encoded data removed]",
      "text/plain": [
       "<Figure size 1008x504 with 1 Axes>"
      ]
     },
     "metadata": {
      "needs_background": "light"
     },
     "output_type": "display_data"
    }
   ],
   "source": [
    "intcPlot = intcTimeSeries.plot(style=\"-o\", color='b', grid=True)\n",
    "intcPlot.set_title('Itel Corporation Time Series Plot')\n",
    "intcPlot.set_xlabel(\"Time (Last Business Day of Months)\")\n",
    "intcPlot.set_ylabel(\"Adjusted Close\")\n",
    "intcPlot.plot()"
   ]
  },
  {
   "cell_type": "markdown",
   "metadata": {},
   "source": [
    "---\n",
    "### eBay "
   ]
  },
  {
   "cell_type": "code",
   "execution_count": 494,
   "metadata": {},
   "outputs": [
    {
     "data": {
      "text/plain": [
       "[]"
      ]
     },
     "execution_count": 494,
     "metadata": {},
     "output_type": "execute_result"
    },
    {
     "data": {
      "image/png": "[encoded data removed]",
      "text/plain": [
       "<Figure size 1008x504 with 1 Axes>"
      ]
     },
     "metadata": {
      "needs_background": "light"
     },
     "output_type": "display_data"
    }
   ],
   "source": [
    "ebayPlot = ebayTimeSeries.plot(style=\"-o\", color='c', grid=True)\n",
    "ebayPlot.set_title('eBay Time Series Plot')\n",
    "ebayPlot.set_xlabel(\"Time (Last Business Day of Months)\")\n",
    "ebayPlot.set_ylabel(\"Adjusted Close\")\n",
    "ebayPlot.plot()"
   ]
  },
  {
   "cell_type": "markdown",
   "metadata": {},
   "source": [
    "---\n",
    "### Amazon"
   ]
  },
  {
   "cell_type": "code",
   "execution_count": 495,
   "metadata": {},
   "outputs": [
    {
     "data": {
      "text/plain": [
       "[]"
      ]
     },
     "execution_count": 495,
     "metadata": {},
     "output_type": "execute_result"
    },
    {
     "data": {
      "image/png": "[encoded data removed]",
      "text/plain": [
       "<Figure size 1008x504 with 1 Axes>"
      ]
     },
     "metadata": {
      "needs_background": "light"
     },
     "output_type": "display_data"
    }
   ],
   "source": [
    "amazonPlot = amazonTimeSeries.plot(style=\"-o\", color='g', grid=True)\n",
    "amazonPlot.set_title('Amazon Time Series Plot')\n",
    "amazonPlot.set_xlabel(\"Time (Last Business Day of Months)\")\n",
    "amazonPlot.set_ylabel(\"Adjusted Close\")\n",
    "amazonPlot.plot()"
   ]
  },
  {
   "cell_type": "markdown",
   "metadata": {},
   "source": [
    "---\n",
    "## 4.Use pandas autocorrelation_plot() function to plot the autocorrelation of the month-end close prices of each of the stocks.  Are they autocorrelated?  Why or why not?"
   ]
  },
  {
   "cell_type": "markdown",
   "metadata": {},
   "source": [
    "If the line is above or below the dotted line, not in between, means there is a significant correlation between the adjusted closed value and time. "
   ]
  },
  {
   "cell_type": "code",
   "execution_count": 496,
   "metadata": {},
   "outputs": [],
   "source": [
    "from pandas.plotting import autocorrelation_plot"
   ]
  },
  {
   "cell_type": "markdown",
   "metadata": {},
   "source": [
    "---\n",
    "### Apple"
   ]
  },
  {
   "cell_type": "code",
   "execution_count": 497,
   "metadata": {},
   "outputs": [
    {
     "data": {
      "image/png": "[encoded data removed]",
      "text/plain": [
       "<Figure size 1008x504 with 1 Axes>"
      ]
     },
     "metadata": {
      "needs_background": "light"
     },
     "output_type": "display_data"
    }
   ],
   "source": [
    "autocorrelation_plot(appleTimeSeries, color='r')\n",
    "plt.show()"
   ]
  },
  {
   "cell_type": "code",
   "execution_count": 498,
   "metadata": {},
   "outputs": [
    {
     "data": {
      "text/plain": [
       "count     59.000000\n",
       "mean     122.079606\n",
       "std       39.132994\n",
       "min       64.792686\n",
       "25%       94.724079\n",
       "50%      111.301277\n",
       "75%      146.211922\n",
       "max      225.003342\n",
       "Name: Adj Close, dtype: float64"
      ]
     },
     "execution_count": 498,
     "metadata": {},
     "output_type": "execute_result"
    }
   ],
   "source": [
    "appleTimeSeries.describe()"
   ]
  },
  {
   "cell_type": "markdown",
   "metadata": {},
   "source": [
    "---\n",
    "### Intel Corporation"
   ]
  },
  {
   "cell_type": "code",
   "execution_count": 499,
   "metadata": {},
   "outputs": [
    {
     "data": {
      "image/png": "[encoded data removed]",
      "text/plain": [
       "<Figure size 1008x504 with 1 Axes>"
      ]
     },
     "metadata": {
      "needs_background": "light"
     },
     "output_type": "display_data"
    }
   ],
   "source": [
    "autocorrelation_plot(intcTimeSeries, color='b')\n",
    "plt.show()"
   ]
  },
  {
   "cell_type": "code",
   "execution_count": 500,
   "metadata": {},
   "outputs": [
    {
     "data": {
      "text/plain": [
       "count    59.000000\n",
       "mean     33.115990\n",
       "std       8.106027\n",
       "min      20.345501\n",
       "25%      27.932055\n",
       "50%      31.535275\n",
       "75%      34.411177\n",
       "max      53.849987\n",
       "Name: Adj Close, dtype: float64"
      ]
     },
     "execution_count": 500,
     "metadata": {},
     "output_type": "execute_result"
    }
   ],
   "source": [
    "intcTimeSeries.describe()"
   ]
  },
  {
   "cell_type": "markdown",
   "metadata": {},
   "source": [
    "---\n",
    "### eBay"
   ]
  },
  {
   "cell_type": "code",
   "execution_count": 501,
   "metadata": {},
   "outputs": [
    {
     "data": {
      "image/png": "[encoded data removed]",
      "text/plain": [
       "<Figure size 1008x504 with 1 Axes>"
      ]
     },
     "metadata": {
      "needs_background": "light"
     },
     "output_type": "display_data"
    }
   ],
   "source": [
    "autocorrelation_plot(ebayTimeSeries, color='c')\n",
    "plt.show()"
   ]
  },
  {
   "cell_type": "code",
   "execution_count": 502,
   "metadata": {},
   "outputs": [
    {
     "data": {
      "text/plain": [
       "count    59.000000\n",
       "mean     28.626168\n",
       "std       5.874749\n",
       "min      20.909128\n",
       "25%      23.529829\n",
       "50%      27.598948\n",
       "75%      33.478983\n",
       "max      42.534733\n",
       "Name: Adj Close, dtype: float64"
      ]
     },
     "execution_count": 502,
     "metadata": {},
     "output_type": "execute_result"
    }
   ],
   "source": [
    "ebayTimeSeries.describe()"
   ]
  },
  {
   "cell_type": "markdown",
   "metadata": {},
   "source": [
    "---\n",
    "### Amazon"
   ]
  },
  {
   "cell_type": "code",
   "execution_count": 503,
   "metadata": {},
   "outputs": [
    {
     "data": {
      "image/png": "[encoded data removed]",
      "text/plain": [
       "<Figure size 1008x504 with 1 Axes>"
      ]
     },
     "metadata": {
      "needs_background": "light"
     },
     "output_type": "display_data"
    }
   ],
   "source": [
    "autocorrelation_plot(amazonTimeSeries, color='g')\n",
    "plt.show()"
   ]
  },
  {
   "cell_type": "code",
   "execution_count": 504,
   "metadata": {},
   "outputs": [
    {
     "data": {
      "text/plain": [
       "count      59.000000\n",
       "mean      783.051016\n",
       "std       464.994753\n",
       "min       304.130005\n",
       "25%       386.889999\n",
       "50%       675.890015\n",
       "75%       974.299988\n",
       "max      2012.709961\n",
       "Name: Adj Close, dtype: float64"
      ]
     },
     "execution_count": 504,
     "metadata": {},
     "output_type": "execute_result"
    }
   ],
   "source": [
    "amazonTimeSeries.describe()"
   ]
  },
  {
   "cell_type": "markdown",
   "metadata": {},
   "source": [
    "In these plots, we can see that in the first year, there is a positive correlation between stock price and time. \n",
    "\n",
    "From year 1 to around year 3, we can not say that there are any significant values that show any correlation. \n",
    "\n",
    "For all stock except Apple, between year 3 to 5, there is a negative correlation between stock price and time. \n",
    "\n",
    "And finally, after year 5, we can not see any significant values. "
   ]
  },
  {
   "cell_type": "markdown",
   "metadata": {},
   "source": [
    "---\n",
    "## 5.Calculate the monthly return over the period for each stock using the “shift trick” on the lecture slide titled Shifting (Note: you should end up with a time series 59 months long)\n"
   ]
  },
  {
   "cell_type": "markdown",
   "metadata": {},
   "source": [
    "Since we want to convert a time series from one daily frequency to monthly, we use *Resampling*. \n",
    "\n",
    "For this purpose, we can either select for the mean, or the sum. we chose ***mean*** in order to find the average adjusted close stock price at the end of each month."
   ]
  },
  {
   "cell_type": "markdown",
   "metadata": {},
   "source": [
    "***Note***: After resampling, we will have the *date '2018-11-30'*. Since it is out of the valid date range, we drop it in all stocks:"
   ]
  },
  {
   "cell_type": "code",
   "execution_count": 505,
   "metadata": {},
   "outputs": [],
   "source": [
    "from datetime import datetime\n",
    "\n",
    "invalid_date = datetime.strptime('2018-11-30','%Y-%m-%d')"
   ]
  },
  {
   "cell_type": "markdown",
   "metadata": {},
   "source": [
    "---\n",
    "### Apple"
   ]
  },
  {
   "cell_type": "code",
   "execution_count": 506,
   "metadata": {},
   "outputs": [],
   "source": [
    "monthly = apple.loc[:, 'Adj Close'].resample(\"BM\").mean()\n",
    "apple_returns = ((monthly/monthly.shift(1))-1)\n"
   ]
  },
  {
   "cell_type": "code",
   "execution_count": 507,
   "metadata": {},
   "outputs": [
    {
     "data": {
      "text/plain": [
       "Date\n",
       "2013-11-29         NaN\n",
       "2013-12-31    0.062577\n",
       "2014-01-31   -0.039688\n",
       "2014-02-28   -0.015245\n",
       "2014-03-31    0.013517\n",
       "2014-04-30    0.014741\n",
       "2014-05-30    0.119577\n",
       "2014-06-30    0.067709\n",
       "2014-07-31    0.040708\n",
       "2014-08-29    0.033568\n",
       "2014-09-30    0.022389\n",
       "2014-10-31    0.011447\n",
       "2014-11-28    0.118017\n",
       "2014-12-31   -0.007063\n",
       "2015-01-30   -0.015745\n",
       "2015-02-27    0.137485\n",
       "2015-03-31    0.004887\n",
       "2015-04-30    0.010483\n",
       "2015-05-29    0.014940\n",
       "2015-06-30   -0.006598\n",
       "2015-07-31   -0.019337\n",
       "2015-08-31   -0.091774\n",
       "2015-09-30   -0.004610\n",
       "2015-10-30    0.004986\n",
       "2015-11-30    0.046136\n",
       "2015-12-31   -0.053841\n",
       "2016-01-29   -0.119021\n",
       "2016-02-29   -0.022766\n",
       "2016-03-31    0.089875\n",
       "2016-04-29    0.023706\n",
       "2016-05-31   -0.105567\n",
       "2016-06-30    0.018221\n",
       "2016-07-29    0.020018\n",
       "2016-08-31    0.097583\n",
       "2016-09-30    0.030356\n",
       "2016-10-31    0.043750\n",
       "2016-11-30   -0.043574\n",
       "2016-12-30    0.038471\n",
       "2017-01-31    0.045780\n",
       "2017-02-28    0.121652\n",
       "2017-03-31    0.053026\n",
       "2017-04-28    0.016136\n",
       "2017-05-31    0.068198\n",
       "2017-06-30   -0.027451\n",
       "2017-07-31    0.003167\n",
       "2017-08-31    0.075244\n",
       "2017-09-29   -0.007718\n",
       "2017-10-31    0.001325\n",
       "2017-11-30    0.095058\n",
       "2017-12-29   -0.001792\n",
       "2018-01-31    0.012297\n",
       "2018-02-28   -0.033846\n",
       "2018-03-30    0.042184\n",
       "2018-04-30   -0.026716\n",
       "2018-05-31    0.095169\n",
       "2018-06-29    0.018019\n",
       "2018-07-31    0.008960\n",
       "2018-08-31    0.123807\n",
       "2018-09-28    0.041984\n",
       "2018-10-31   -0.005530\n",
       "Freq: BM, Name: Adj Close, dtype: float64"
      ]
     },
     "execution_count": 507,
     "metadata": {},
     "output_type": "execute_result"
    }
   ],
   "source": [
    "apple_returns.drop(invalid_date, inplace=True)\n",
    "apple_returns"
   ]
  },
  {
   "cell_type": "code",
   "execution_count": 508,
   "metadata": {},
   "outputs": [
    {
     "name": "stdout",
     "output_type": "stream",
     "text": [
      "The time series has 59 valid months\n"
     ]
    }
   ],
   "source": [
    "print(f'The time series has {apple_returns.notnull().sum()} valid months')"
   ]
  },
  {
   "cell_type": "markdown",
   "metadata": {},
   "source": [
    "---\n",
    "### Intel Corporation"
   ]
  },
  {
   "cell_type": "code",
   "execution_count": 509,
   "metadata": {},
   "outputs": [],
   "source": [
    "monthly = intc.loc[:, 'Adj Close'].resample(\"BM\").mean()\n",
    "intc_returns = ((monthly/monthly.shift(1))-1)"
   ]
  },
  {
   "cell_type": "code",
   "execution_count": 510,
   "metadata": {},
   "outputs": [
    {
     "data": {
      "text/plain": [
       "Date\n",
       "2013-11-29         NaN\n",
       "2013-12-31    0.021143\n",
       "2014-01-31    0.025052\n",
       "2014-02-28   -0.031573\n",
       "2014-03-31    0.022434\n",
       "2014-04-30    0.064241\n",
       "2014-05-30    0.000582\n",
       "2014-06-30    0.110778\n",
       "2014-07-31    0.121365\n",
       "2014-08-29    0.042732\n",
       "2014-09-30    0.023010\n",
       "2014-10-31   -0.055167\n",
       "2014-11-28    0.061898\n",
       "2014-12-31    0.064288\n",
       "2015-01-30   -0.029589\n",
       "2015-02-27   -0.048011\n",
       "2015-03-31   -0.061555\n",
       "2015-04-30    0.009102\n",
       "2015-05-29    0.040276\n",
       "2015-06-30   -0.037230\n",
       "2015-07-31   -0.081471\n",
       "2015-08-31   -0.023690\n",
       "2015-09-30    0.026729\n",
       "2015-10-30    0.131859\n",
       "2015-11-30    0.029176\n",
       "2015-12-31    0.032967\n",
       "2016-01-29   -0.102843\n",
       "2016-02-29   -0.056237\n",
       "2016-03-31    0.082157\n",
       "2016-04-29    0.003155\n",
       "2016-05-31   -0.033723\n",
       "2016-06-30    0.051025\n",
       "2016-07-29    0.080345\n",
       "2016-08-31    0.023519\n",
       "2016-09-30    0.049252\n",
       "2016-10-31   -0.005639\n",
       "2016-11-30   -0.040742\n",
       "2016-12-30    0.038027\n",
       "2017-01-31    0.022933\n",
       "2017-02-28   -0.012780\n",
       "2017-03-31   -0.018615\n",
       "2017-04-28    0.017855\n",
       "2017-05-31    0.004661\n",
       "2017-06-30   -0.024557\n",
       "2017-07-31   -0.020788\n",
       "2017-08-31    0.040429\n",
       "2017-09-29    0.029193\n",
       "2017-10-31    0.109095\n",
       "2017-11-30    0.127724\n",
       "2017-12-29   -0.011717\n",
       "2018-01-31    0.011354\n",
       "2018-02-28    0.018657\n",
       "2018-03-30    0.105251\n",
       "2018-04-30    0.010054\n",
       "2018-05-31    0.061424\n",
       "2018-06-29   -0.011278\n",
       "2018-07-31   -0.046473\n",
       "2018-08-31   -0.048951\n",
       "2018-09-28   -0.041665\n",
       "2018-10-31   -0.011133\n",
       "Freq: BM, Name: Adj Close, dtype: float64"
      ]
     },
     "execution_count": 510,
     "metadata": {},
     "output_type": "execute_result"
    }
   ],
   "source": [
    "intc_returns.drop(invalid_date, inplace=True)\n",
    "intc_returns"
   ]
  },
  {
   "cell_type": "code",
   "execution_count": 511,
   "metadata": {},
   "outputs": [
    {
     "name": "stdout",
     "output_type": "stream",
     "text": [
      "The time series has 59 valid months\n"
     ]
    }
   ],
   "source": [
    "print(f'The time series has {intc_returns.notnull().sum()} valid months')"
   ]
  },
  {
   "cell_type": "markdown",
   "metadata": {},
   "source": [
    "---\n",
    "### eBay"
   ]
  },
  {
   "cell_type": "code",
   "execution_count": 512,
   "metadata": {},
   "outputs": [],
   "source": [
    "monthly = ebay.loc[:, 'Adj Close'].resample(\"BM\").mean()\n",
    "ebay_returns = ((monthly/monthly.shift(1))-1)"
   ]
  },
  {
   "cell_type": "code",
   "execution_count": 513,
   "metadata": {},
   "outputs": [
    {
     "data": {
      "text/plain": [
       "Date\n",
       "2013-11-29         NaN\n",
       "2013-12-31    0.034772\n",
       "2014-01-31    0.006378\n",
       "2014-02-28    0.035583\n",
       "2014-03-31    0.039396\n",
       "2014-04-30   -0.049722\n",
       "2014-05-30   -0.056086\n",
       "2014-06-30   -0.036046\n",
       "2014-07-31    0.042432\n",
       "2014-08-29    0.048136\n",
       "2014-09-30   -0.022174\n",
       "2014-10-31   -0.023938\n",
       "2014-11-28    0.049524\n",
       "2014-12-31    0.035204\n",
       "2015-01-30   -0.021749\n",
       "2015-02-27    0.023062\n",
       "2015-03-31    0.046343\n",
       "2015-04-30   -0.022218\n",
       "2015-05-29    0.029760\n",
       "2015-06-30    0.033612\n",
       "2015-07-31    0.061710\n",
       "2015-08-31    0.005169\n",
       "2015-09-30   -0.057679\n",
       "2015-10-30   -0.002152\n",
       "2015-11-30    0.120198\n",
       "2015-12-31   -0.024353\n",
       "2016-01-29   -0.087669\n",
       "2016-02-29   -0.094397\n",
       "2016-03-31    0.030319\n",
       "2016-04-29    0.023454\n",
       "2016-05-31   -0.029073\n",
       "2016-06-30    0.002761\n",
       "2016-07-29    0.135449\n",
       "2016-08-31    0.143940\n",
       "2016-09-30    0.031996\n",
       "2016-10-31   -0.040666\n",
       "2016-11-30   -0.076271\n",
       "2016-12-30    0.033547\n",
       "2017-01-31    0.043841\n",
       "2017-02-28    0.086090\n",
       "2017-03-31    0.004044\n",
       "2017-04-28    0.003524\n",
       "2017-05-31    0.013658\n",
       "2017-06-30    0.027759\n",
       "2017-07-31    0.029027\n",
       "2017-08-31   -0.018338\n",
       "2017-09-29    0.073116\n",
       "2017-10-31   -0.000957\n",
       "2017-11-30   -0.047851\n",
       "2017-12-29    0.037230\n",
       "2018-01-31    0.047917\n",
       "2018-02-28    0.096777\n",
       "2018-03-30   -0.019492\n",
       "2018-04-30   -0.048748\n",
       "2018-05-31   -0.052256\n",
       "2018-06-29    0.018259\n",
       "2018-07-31   -0.073101\n",
       "2018-08-31   -0.047680\n",
       "2018-09-28   -0.006961\n",
       "2018-10-31   -0.099603\n",
       "Freq: BM, Name: Adj Close, dtype: float64"
      ]
     },
     "execution_count": 513,
     "metadata": {},
     "output_type": "execute_result"
    }
   ],
   "source": [
    "ebay_returns.drop(invalid_date, inplace=True)\n",
    "ebay_returns"
   ]
  },
  {
   "cell_type": "code",
   "execution_count": 514,
   "metadata": {},
   "outputs": [
    {
     "name": "stdout",
     "output_type": "stream",
     "text": [
      "The time series has 59 valid months\n"
     ]
    }
   ],
   "source": [
    "print(f'The time series has {ebay_returns.notnull().sum()} valid months')"
   ]
  },
  {
   "cell_type": "markdown",
   "metadata": {},
   "source": [
    "---\n",
    "### Amazon"
   ]
  },
  {
   "cell_type": "code",
   "execution_count": 515,
   "metadata": {},
   "outputs": [],
   "source": [
    "monthly = amazon.loc[:, 'Adj Close'].resample(\"BM\").mean()\n",
    "amazon_returns = ((monthly/monthly.shift(1))-1)"
   ]
  },
  {
   "cell_type": "code",
   "execution_count": 516,
   "metadata": {},
   "outputs": [
    {
     "data": {
      "text/plain": [
       "Date\n",
       "2013-11-29         NaN\n",
       "2013-12-31    0.056873\n",
       "2014-01-31    0.008599\n",
       "2014-02-28   -0.102634\n",
       "2014-03-31    0.023406\n",
       "2014-04-30   -0.113033\n",
       "2014-05-30   -0.058101\n",
       "2014-06-30    0.071362\n",
       "2014-07-31    0.047280\n",
       "2014-08-29   -0.037030\n",
       "2014-09-30    0.009104\n",
       "2014-10-31   -0.066305\n",
       "2014-11-28    0.033322\n",
       "2014-12-31   -0.031067\n",
       "2015-01-30   -0.019558\n",
       "2015-02-27    0.241118\n",
       "2015-03-31   -0.001128\n",
       "2015-04-30    0.050334\n",
       "2015-05-29    0.082987\n",
       "2015-06-30    0.013286\n",
       "2015-07-31    0.106587\n",
       "2015-08-31    0.083048\n",
       "2015-09-30    0.004804\n",
       "2015-10-30    0.087891\n",
       "2015-11-30    0.160482\n",
       "2015-12-31    0.017587\n",
       "2016-01-29   -0.101904\n",
       "2016-02-29   -0.117195\n",
       "2016-03-31    0.078689\n",
       "2016-04-29    0.072016\n",
       "2016-05-31    0.136702\n",
       "2016-06-30    0.027122\n",
       "2016-07-29    0.035005\n",
       "2016-08-31    0.031521\n",
       "2016-09-30    0.031544\n",
       "2016-10-31    0.044962\n",
       "2016-11-30   -0.074116\n",
       "2016-12-30   -0.000013\n",
       "2017-01-31    0.057878\n",
       "2017-02-28    0.034972\n",
       "2017-03-31    0.022130\n",
       "2017-04-28    0.057532\n",
       "2017-05-31    0.064572\n",
       "2017-06-30    0.029868\n",
       "2017-07-31    0.018214\n",
       "2017-08-31   -0.036736\n",
       "2017-09-29   -0.002516\n",
       "2017-10-31    0.032743\n",
       "2017-11-30    0.138988\n",
       "2017-12-29    0.025472\n",
       "2018-01-31    0.119922\n",
       "2018-02-28    0.101872\n",
       "2018-03-30    0.067947\n",
       "2018-04-30   -0.046838\n",
       "2018-05-31    0.086283\n",
       "2018-06-29    0.065158\n",
       "2018-07-31    0.050520\n",
       "2018-08-31    0.063431\n",
       "2018-09-28    0.035949\n",
       "2018-10-31   -0.093597\n",
       "Freq: BM, Name: Adj Close, dtype: float64"
      ]
     },
     "execution_count": 516,
     "metadata": {},
     "output_type": "execute_result"
    }
   ],
   "source": [
    "amazon_returns.drop(invalid_date, inplace=True)\n",
    "amazon_returns"
   ]
  },
  {
   "cell_type": "code",
   "execution_count": 517,
   "metadata": {},
   "outputs": [
    {
     "name": "stdout",
     "output_type": "stream",
     "text": [
      "The time series has 59 valid months\n"
     ]
    }
   ],
   "source": [
    "print(f'The time series has {amazon_returns.notnull().sum()} valid months')"
   ]
  },
  {
   "cell_type": "markdown",
   "metadata": {},
   "source": [
    "---\n",
    "## 6. Plot the autocorrelation of the monthly returns.  Are they autocorrelated?  Why or why not?"
   ]
  },
  {
   "cell_type": "markdown",
   "metadata": {},
   "source": [
    "### Apple"
   ]
  },
  {
   "cell_type": "code",
   "execution_count": 518,
   "metadata": {},
   "outputs": [
    {
     "data": {
      "image/png": "[encoded data removed]",
      "text/plain": [
       "<Figure size 1008x504 with 1 Axes>"
      ]
     },
     "metadata": {
      "needs_background": "light"
     },
     "output_type": "display_data"
    }
   ],
   "source": [
    "autocorrelation_plot(apple_returns.dropna(), color='r')\n",
    "plt.show()"
   ]
  },
  {
   "cell_type": "markdown",
   "metadata": {},
   "source": [
    "### Intel Corporation"
   ]
  },
  {
   "cell_type": "code",
   "execution_count": 519,
   "metadata": {},
   "outputs": [
    {
     "data": {
      "image/png": "[encoded data removed]",
      "text/plain": [
       "<Figure size 1008x504 with 1 Axes>"
      ]
     },
     "metadata": {
      "needs_background": "light"
     },
     "output_type": "display_data"
    }
   ],
   "source": [
    "autocorrelation_plot(intc_returns.dropna(), color='b')\n",
    "plt.show()"
   ]
  },
  {
   "cell_type": "markdown",
   "metadata": {},
   "source": [
    "### eBay"
   ]
  },
  {
   "cell_type": "code",
   "execution_count": 520,
   "metadata": {},
   "outputs": [
    {
     "data": {
      "image/png": "[encoded data removed]",
      "text/plain": [
       "<Figure size 1008x504 with 1 Axes>"
      ]
     },
     "metadata": {
      "needs_background": "light"
     },
     "output_type": "display_data"
    }
   ],
   "source": [
    "autocorrelation_plot(ebay_returns.dropna(), color='c')\n",
    "plt.show()"
   ]
  },
  {
   "cell_type": "markdown",
   "metadata": {},
   "source": [
    "### Amazon "
   ]
  },
  {
   "cell_type": "code",
   "execution_count": 521,
   "metadata": {},
   "outputs": [
    {
     "data": {
      "image/png": "[encoded data removed]",
      "text/plain": [
       "<Figure size 1008x504 with 1 Axes>"
      ]
     },
     "metadata": {
      "needs_background": "light"
     },
     "output_type": "display_data"
    }
   ],
   "source": [
    "autocorrelation_plot(amazon_returns.dropna(), color='g')\n",
    "plt.show()"
   ]
  },
  {
   "cell_type": "markdown",
   "metadata": {},
   "source": [
    "As the plot shows, there is no significant trend seen in the month end returns, the values are randomly distributed, and therefore, the stock price returns are not affected by the time. So there is no correlation between time and returns."
   ]
  },
  {
   "cell_type": "code",
   "execution_count": null,
   "metadata": {},
   "outputs": [],
   "source": []
  }
 ],
 "metadata": {
  "kernelspec": {
   "display_name": "Python 3",
   "language": "python",
   "name": "python3"
  },
  "language_info": {
   "codemirror_mode": {
    "name": "ipython",
    "version": 3
   },
   "file_extension": ".py",
   "mimetype": "text/x-python",
   "name": "python",
   "nbconvert_exporter": "python",
   "pygments_lexer": "ipython3",
   "version": "3.7.3"
  }
 },
 "nbformat": 4,
 "nbformat_minor": 2
}
